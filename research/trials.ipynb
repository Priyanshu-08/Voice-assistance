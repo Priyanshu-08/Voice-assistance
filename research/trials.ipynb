{
 "cells": [
  {
   "cell_type": "code",
   "execution_count": 1,
   "id": "5ae380ee",
   "metadata": {},
   "outputs": [],
   "source": [
    "import os"
   ]
  },
  {
   "cell_type": "code",
   "execution_count": 7,
   "id": "fa3b3fb2",
   "metadata": {},
   "outputs": [
    {
     "name": "stdout",
     "output_type": "stream",
     "text": [
      "perfect!!\n"
     ]
    }
   ],
   "source": [
    "from dotenv import load_dotenv\n",
    "import os\n",
    "\n",
    "print(\"perfect!!\")\n",
    "load_dotenv()\n",
    "\n",
    "GOOGLE_API_KEY=os.getenv(\"GOOGLE_API_KEY\")\n",
    "# print(GOOGLE_API_KEY)\n",
    "os.environ[\"GOOGLE_API_KEY\"]=GOOGLE_API_KEY"
   ]
  },
  {
   "cell_type": "code",
   "execution_count": 8,
   "id": "2f344883",
   "metadata": {},
   "outputs": [],
   "source": [
    "# Import the Python SDK\n",
    "import google.generativeai as genai"
   ]
  },
  {
   "cell_type": "code",
   "execution_count": 9,
   "id": "c0e33386",
   "metadata": {},
   "outputs": [],
   "source": [
    "genai.configure(api_key=GOOGLE_API_KEY)"
   ]
  },
  {
   "cell_type": "code",
   "execution_count": 10,
   "id": "235dea43",
   "metadata": {},
   "outputs": [],
   "source": [
    "model = genai.GenerativeModel('gemini-2.0-flash')"
   ]
  },
  {
   "cell_type": "code",
   "execution_count": 12,
   "id": "2b475d5d",
   "metadata": {},
   "outputs": [
    {
     "name": "stdout",
     "output_type": "stream",
     "text": [
      "Collectivization was a policy of forced consolidation of individual peasant households into collective farms, known as \"kolkhozes,\" implemented by the Soviet Union in the late 1920s and early 1930s. Driven by the ideological goal of eliminating private land ownership and creating a socialist agricultural system, it aimed to increase agricultural production and control over the peasantry. This involved confiscating land, livestock, and tools from farmers and forcing them to work collectively.\n",
      "\n",
      "The process was often brutal, met with fierce resistance from peasants who deeply valued their land. Resistance was violently suppressed, with those deemed \"kulaks\" (wealthy peasants) often deported, imprisoned, or executed.  The collectivization drive led to widespread famine, particularly in Ukraine (Holodomor), resulting in millions of deaths. While the Soviet government touted increased grain procurement and industrialization as successes, the human cost was immense, and agricultural productivity often suffered in the long run.\n",
      "\n"
     ]
    }
   ],
   "source": [
    "response = model.generate_content(\"Write a short note on collectivization.\")\n",
    "print(response.text)"
   ]
  }
 ],
 "metadata": {
  "kernelspec": {
   "display_name": "Python 3",
   "language": "python",
   "name": "python3"
  },
  "language_info": {
   "codemirror_mode": {
    "name": "ipython",
    "version": 3
   },
   "file_extension": ".py",
   "mimetype": "text/x-python",
   "name": "python",
   "nbconvert_exporter": "python",
   "pygments_lexer": "ipython3",
   "version": "3.10.16"
  }
 },
 "nbformat": 4,
 "nbformat_minor": 5
}
